{
  "nbformat": 4,
  "nbformat_minor": 0,
  "metadata": {
    "colab": {
      "provenance": []
    },
    "kernelspec": {
      "name": "python3",
      "display_name": "Python 3"
    },
    "language_info": {
      "name": "python"
    }
  },
  "cells": [
    {
      "cell_type": "code",
      "execution_count": 22,
      "metadata": {
        "id": "WjVBzBnfL-Mt",
        "outputId": "37c1761d-05cc-4f17-b1d5-ce4e2d38a806",
        "colab": {
          "base_uri": "https://localhost:8080/"
        }
      },
      "outputs": [
        {
          "output_type": "stream",
          "name": "stdout",
          "text": [
            "Accuracy for the test data is : 0.9668161434977578\n",
            "It is a spam mail\n"
          ]
        }
      ],
      "source": [
        "import pandas as pd\n",
        "from sklearn.model_selection import train_test_split\n",
        "from sklearn.feature_extraction.text import TfidfVectorizer\n",
        "from sklearn.linear_model import LogisticRegression\n",
        "from sklearn.metrics import accuracy_score\n",
        "\n",
        "rawdata = pd.read_csv('/content/mail_data.csv')\n",
        "data = rawdata.where((pd.notnull(rawdata)),'')\n",
        "\n",
        "data.loc[data['Category'] == 'spam', 'Category',] = 0\n",
        "data.loc[data['Category'] == 'ham', 'Category',] = 1\n",
        "\n",
        "X = data['Message']\n",
        "Y = data['Category']\n",
        "\n",
        "X_train, X_test, Y_train, Y_test = train_test_split(X, Y, test_size=0.2, random_state=3)\n",
        "\n",
        "feature = TfidfVectorizer(min_df=1, stop_words='english', lowercase=True)\n",
        "\n",
        "X_train_features = feature.fit_transform(X_train)\n",
        "X_test_features = feature.transform(X_test)\n",
        "\n",
        "Y_train = Y_train.astype('int')\n",
        "Y_test = Y_test.astype('int')\n",
        "\n",
        "model = LogisticRegression()\n",
        "\n",
        "model = model.fit(X_train_features, Y_train)\n",
        "\n",
        "prediction = model.predict(X_test_features)\n",
        "accuracy = accuracy_score(Y_test, prediction)\n",
        "\n",
        "print(\"Accuracy for the test data is :\", accuracy)\n",
        "\n",
        "mail = [\"Free entry in 2 a wkly comp to win FA Cup final tkts 21st May 2005. Text FA to 87121 to receive entry question(std txt rate)T&C's apply 08452810075over18's\"]\n",
        "mail_feature = feature.transform(mail)\n",
        "\n",
        "test = model.predict(mail_feature)\n",
        "if(test[0]==1): print(\"It is a ham mail\")\n",
        "else: print(\"It is a spam mail\")"
      ]
    }
  ]
}